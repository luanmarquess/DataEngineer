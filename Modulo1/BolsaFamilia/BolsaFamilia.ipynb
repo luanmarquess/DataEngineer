{
 "cells": [
  {
   "cell_type": "code",
   "execution_count": null,
   "metadata": {},
   "outputs": [],
   "source": [
    "# Baixar os dados do Bolsa Familia do mesmes de 01/2024 e 03/2024 pela APi\n",
    "\n",
    "# Filtrar os dados pelo municipio de Wanderlandia\n",
    "# Verificar no mes de 01/2024 quando o municipio recebeu?\n",
    "\n",
    "# Conte quantos beneficios foram recebidos por cada UF\n",
    "# Qual a UF que mais recebeu beneficios em 03/2024"
   ]
  },
  {
   "cell_type": "code",
   "execution_count": 1,
   "metadata": {},
   "outputs": [
    {
     "name": "stderr",
     "output_type": "stream",
     "text": [
      "ERROR: Could not find a version that satisfies the requirement requets (from versions: none)\n",
      "ERROR: No matching distribution found for requets\n"
     ]
    }
   ],
   "source": [
    "! pip install requets"
   ]
  },
  {
   "cell_type": "code",
   "execution_count": 4,
   "metadata": {},
   "outputs": [
    {
     "name": "stdout",
     "output_type": "stream",
     "text": [
      "2.31.0\n"
     ]
    }
   ],
   "source": [
    "import requests\n",
    "#Validando a versao do requests\n",
    "print(requests.__version__)"
   ]
  },
  {
   "cell_type": "code",
   "execution_count": 6,
   "metadata": {},
   "outputs": [],
   "source": [
    "import requests\n",
    "import pandas as pd\n",
    "from zipfile import ZipFile\n",
    "from io import BytesIO"
   ]
  },
  {
   "cell_type": "code",
   "execution_count": 43,
   "metadata": {},
   "outputs": [],
   "source": [
    "# #Create the function to download data form api\n",
    "\n",
    "def DownloadExtractData(url):\n",
    "    \n",
    "    response = requests.get(url)\n",
    "    \n",
    "    if(response.status_code == 200):\n",
    "        \n",
    "        zippedFile = ZipFile(BytesIO(response.content))\n",
    "        \n",
    "        fileNames = zippedFile.namelist()\n",
    "        \n",
    "        with zippedFile.open(fileNames[0]) as csvFile:\n",
    "            \n",
    "            chunkSize = 50000; #Lines to be raed each time;\n",
    "            \n",
    "            # ISO-8859-1 br enconding\n",
    "            df = pd.read_csv(csvFile, sep=';', encoding='ISO-8859-1')\n",
    "            \n",
    "            return df\n",
    "    \n",
    "    else:\n",
    "        print(\"Fail to download the file: \", response.status_code) \n",
    "        \n",
    "        return None"
   ]
  },
  {
   "cell_type": "code",
   "execution_count": 8,
   "metadata": {},
   "outputs": [],
   "source": [
    "# URL january 2024 \n",
    "url = 'https://portaldatransparencia.gov.br/download-de-dados/novo-bolsa-familia/202401'"
   ]
  },
  {
   "cell_type": "code",
   "execution_count": 44,
   "metadata": {},
   "outputs": [],
   "source": [
    "dataFrame = DownloadExtractData(url)"
   ]
  },
  {
   "cell_type": "code",
   "execution_count": 45,
   "metadata": {},
   "outputs": [
    {
     "data": {
      "text/html": [
       "<div>\n",
       "<style scoped>\n",
       "    .dataframe tbody tr th:only-of-type {\n",
       "        vertical-align: middle;\n",
       "    }\n",
       "\n",
       "    .dataframe tbody tr th {\n",
       "        vertical-align: top;\n",
       "    }\n",
       "\n",
       "    .dataframe thead th {\n",
       "        text-align: right;\n",
       "    }\n",
       "</style>\n",
       "<table border=\"1\" class=\"dataframe\">\n",
       "  <thead>\n",
       "    <tr style=\"text-align: right;\">\n",
       "      <th></th>\n",
       "      <th>MÊS COMPETÊNCIA</th>\n",
       "      <th>MÊS REFERÊNCIA</th>\n",
       "      <th>UF</th>\n",
       "      <th>CÓDIGO MUNICÍPIO SIAFI</th>\n",
       "      <th>NOME MUNICÍPIO</th>\n",
       "      <th>CPF FAVORECIDO</th>\n",
       "      <th>NIS FAVORECIDO</th>\n",
       "      <th>NOME FAVORECIDO</th>\n",
       "      <th>VALOR PARCELA</th>\n",
       "    </tr>\n",
       "  </thead>\n",
       "  <tbody>\n",
       "    <tr>\n",
       "      <th>0</th>\n",
       "      <td>202401</td>\n",
       "      <td>202303</td>\n",
       "      <td>AC</td>\n",
       "      <td>139</td>\n",
       "      <td>RIO BRANCO</td>\n",
       "      <td>***.511.972-**</td>\n",
       "      <td>16291115205.00</td>\n",
       "      <td>JANAINA FERREIRA DA SILVA</td>\n",
       "      <td>800,00</td>\n",
       "    </tr>\n",
       "    <tr>\n",
       "      <th>1</th>\n",
       "      <td>202401</td>\n",
       "      <td>202303</td>\n",
       "      <td>BA</td>\n",
       "      <td>3329</td>\n",
       "      <td>ANGUERA</td>\n",
       "      <td>***.909.745-**</td>\n",
       "      <td>20474429886.00</td>\n",
       "      <td>TACIANE MARQUES DA SILVA</td>\n",
       "      <td>750,00</td>\n",
       "    </tr>\n",
       "    <tr>\n",
       "      <th>2</th>\n",
       "      <td>202401</td>\n",
       "      <td>202303</td>\n",
       "      <td>BA</td>\n",
       "      <td>3731</td>\n",
       "      <td>MONTE SANTO</td>\n",
       "      <td>***.872.338-**</td>\n",
       "      <td>20195376298.00</td>\n",
       "      <td>MAILSON DOS SANTOS SILVA</td>\n",
       "      <td>650,00</td>\n",
       "    </tr>\n",
       "    <tr>\n",
       "      <th>3</th>\n",
       "      <td>202401</td>\n",
       "      <td>202303</td>\n",
       "      <td>BA</td>\n",
       "      <td>3761</td>\n",
       "      <td>NOVA VICOSA</td>\n",
       "      <td>***.665.905-**</td>\n",
       "      <td>12723589082.00</td>\n",
       "      <td>IRENI RICARDO GERALDO</td>\n",
       "      <td>650,00</td>\n",
       "    </tr>\n",
       "    <tr>\n",
       "      <th>4</th>\n",
       "      <td>202401</td>\n",
       "      <td>202303</td>\n",
       "      <td>BA</td>\n",
       "      <td>3849</td>\n",
       "      <td>SALVADOR</td>\n",
       "      <td>***.932.435-**</td>\n",
       "      <td>20024584007.00</td>\n",
       "      <td>ELIENE GOMES DOS SANTOS</td>\n",
       "      <td>850,00</td>\n",
       "    </tr>\n",
       "    <tr>\n",
       "      <th>...</th>\n",
       "      <td>...</td>\n",
       "      <td>...</td>\n",
       "      <td>...</td>\n",
       "      <td>...</td>\n",
       "      <td>...</td>\n",
       "      <td>...</td>\n",
       "      <td>...</td>\n",
       "      <td>...</td>\n",
       "      <td>...</td>\n",
       "    </tr>\n",
       "    <tr>\n",
       "      <th>20833374</th>\n",
       "      <td>202401</td>\n",
       "      <td>202401</td>\n",
       "      <td>TO</td>\n",
       "      <td>9643</td>\n",
       "      <td>XAMBIOA</td>\n",
       "      <td>NaN</td>\n",
       "      <td>20324328324.00</td>\n",
       "      <td>ZEILA MARIA BATISTA</td>\n",
       "      <td>600,00</td>\n",
       "    </tr>\n",
       "    <tr>\n",
       "      <th>20833375</th>\n",
       "      <td>202401</td>\n",
       "      <td>202401</td>\n",
       "      <td>TO</td>\n",
       "      <td>9643</td>\n",
       "      <td>XAMBIOA</td>\n",
       "      <td>***.273.191-**</td>\n",
       "      <td>20644881997.00</td>\n",
       "      <td>ZENILDE ALVES DOS SANTOS</td>\n",
       "      <td>600,00</td>\n",
       "    </tr>\n",
       "    <tr>\n",
       "      <th>20833376</th>\n",
       "      <td>202401</td>\n",
       "      <td>202401</td>\n",
       "      <td>TO</td>\n",
       "      <td>9643</td>\n",
       "      <td>XAMBIOA</td>\n",
       "      <td>NaN</td>\n",
       "      <td>19058661973.00</td>\n",
       "      <td>ZENOLIA RAMOS DA SILVA CARVALHO</td>\n",
       "      <td>600,00</td>\n",
       "    </tr>\n",
       "    <tr>\n",
       "      <th>20833377</th>\n",
       "      <td>202401</td>\n",
       "      <td>202401</td>\n",
       "      <td>TO</td>\n",
       "      <td>9643</td>\n",
       "      <td>XAMBIOA</td>\n",
       "      <td>***.822.651-**</td>\n",
       "      <td>20919263822.00</td>\n",
       "      <td>ZILMA ALVES DE BARROS</td>\n",
       "      <td>440,00</td>\n",
       "    </tr>\n",
       "    <tr>\n",
       "      <th>20833378</th>\n",
       "      <td>202401</td>\n",
       "      <td>202401</td>\n",
       "      <td>TO</td>\n",
       "      <td>9643</td>\n",
       "      <td>XAMBIOA</td>\n",
       "      <td>NaN</td>\n",
       "      <td>20501199947.00</td>\n",
       "      <td>ZULEIDE DA SILVA E SILVA</td>\n",
       "      <td>750,00</td>\n",
       "    </tr>\n",
       "  </tbody>\n",
       "</table>\n",
       "<p>20833379 rows × 9 columns</p>\n",
       "</div>"
      ],
      "text/plain": [
       "          MÊS COMPETÊNCIA  MÊS REFERÊNCIA  UF  CÓDIGO MUNICÍPIO SIAFI NOME MUNICÍPIO  CPF FAVORECIDO  NIS FAVORECIDO                  NOME FAVORECIDO VALOR PARCELA\n",
       "0                  202401          202303  AC                     139     RIO BRANCO  ***.511.972-**  16291115205.00        JANAINA FERREIRA DA SILVA        800,00\n",
       "1                  202401          202303  BA                    3329        ANGUERA  ***.909.745-**  20474429886.00         TACIANE MARQUES DA SILVA        750,00\n",
       "2                  202401          202303  BA                    3731    MONTE SANTO  ***.872.338-**  20195376298.00         MAILSON DOS SANTOS SILVA        650,00\n",
       "3                  202401          202303  BA                    3761    NOVA VICOSA  ***.665.905-**  12723589082.00            IRENI RICARDO GERALDO        650,00\n",
       "4                  202401          202303  BA                    3849       SALVADOR  ***.932.435-**  20024584007.00          ELIENE GOMES DOS SANTOS        850,00\n",
       "...                   ...             ...  ..                     ...            ...             ...             ...                              ...           ...\n",
       "20833374           202401          202401  TO                    9643        XAMBIOA             NaN  20324328324.00              ZEILA MARIA BATISTA        600,00\n",
       "20833375           202401          202401  TO                    9643        XAMBIOA  ***.273.191-**  20644881997.00         ZENILDE ALVES DOS SANTOS        600,00\n",
       "20833376           202401          202401  TO                    9643        XAMBIOA             NaN  19058661973.00  ZENOLIA RAMOS DA SILVA CARVALHO        600,00\n",
       "20833377           202401          202401  TO                    9643        XAMBIOA  ***.822.651-**  20919263822.00            ZILMA ALVES DE BARROS        440,00\n",
       "20833378           202401          202401  TO                    9643        XAMBIOA             NaN  20501199947.00         ZULEIDE DA SILVA E SILVA        750,00\n",
       "\n",
       "[20833379 rows x 9 columns]"
      ]
     },
     "execution_count": 45,
     "metadata": {},
     "output_type": "execute_result"
    }
   ],
   "source": [
    "dataFrame.head()\n",
    "\n",
    "dataFrame"
   ]
  },
  {
   "cell_type": "code",
   "execution_count": 46,
   "metadata": {},
   "outputs": [
    {
     "data": {
      "text/html": [
       "<div>\n",
       "<style scoped>\n",
       "    .dataframe tbody tr th:only-of-type {\n",
       "        vertical-align: middle;\n",
       "    }\n",
       "\n",
       "    .dataframe tbody tr th {\n",
       "        vertical-align: top;\n",
       "    }\n",
       "\n",
       "    .dataframe thead th {\n",
       "        text-align: right;\n",
       "    }\n",
       "</style>\n",
       "<table border=\"1\" class=\"dataframe\">\n",
       "  <thead>\n",
       "    <tr style=\"text-align: right;\">\n",
       "      <th></th>\n",
       "      <th>MÊS COMPETÊNCIA</th>\n",
       "      <th>MÊS REFERÊNCIA</th>\n",
       "      <th>UF</th>\n",
       "      <th>CÓDIGO MUNICÍPIO SIAFI</th>\n",
       "      <th>NOME MUNICÍPIO</th>\n",
       "      <th>CPF FAVORECIDO</th>\n",
       "      <th>NIS FAVORECIDO</th>\n",
       "      <th>NOME FAVORECIDO</th>\n",
       "      <th>VALOR PARCELA</th>\n",
       "    </tr>\n",
       "  </thead>\n",
       "  <tbody>\n",
       "    <tr>\n",
       "      <th>72094</th>\n",
       "      <td>202401</td>\n",
       "      <td>202310</td>\n",
       "      <td>TO</td>\n",
       "      <td>9665</td>\n",
       "      <td>WANDERLANDIA</td>\n",
       "      <td>***.729.691-**</td>\n",
       "      <td>16181994360.00</td>\n",
       "      <td>GILDAMAR SINHA BENIGNO</td>\n",
       "      <td>810,00</td>\n",
       "    </tr>\n",
       "    <tr>\n",
       "      <th>121566</th>\n",
       "      <td>202401</td>\n",
       "      <td>202311</td>\n",
       "      <td>TO</td>\n",
       "      <td>9665</td>\n",
       "      <td>WANDERLANDIA</td>\n",
       "      <td>***.729.691-**</td>\n",
       "      <td>16181994360.00</td>\n",
       "      <td>GILDAMAR SINHA BENIGNO</td>\n",
       "      <td>810,00</td>\n",
       "    </tr>\n",
       "    <tr>\n",
       "      <th>175754</th>\n",
       "      <td>202401</td>\n",
       "      <td>202312</td>\n",
       "      <td>TO</td>\n",
       "      <td>9665</td>\n",
       "      <td>WANDERLANDIA</td>\n",
       "      <td>***.729.691-**</td>\n",
       "      <td>16181994360.00</td>\n",
       "      <td>GILDAMAR SINHA BENIGNO</td>\n",
       "      <td>810,00</td>\n",
       "    </tr>\n",
       "    <tr>\n",
       "      <th>20830263</th>\n",
       "      <td>202401</td>\n",
       "      <td>202401</td>\n",
       "      <td>TO</td>\n",
       "      <td>9665</td>\n",
       "      <td>WANDERLANDIA</td>\n",
       "      <td>***.688.783-**</td>\n",
       "      <td>20918613684.00</td>\n",
       "      <td>ABDIAS SOARES SANTANA</td>\n",
       "      <td>600,00</td>\n",
       "    </tr>\n",
       "    <tr>\n",
       "      <th>20830264</th>\n",
       "      <td>202401</td>\n",
       "      <td>202401</td>\n",
       "      <td>TO</td>\n",
       "      <td>9665</td>\n",
       "      <td>WANDERLANDIA</td>\n",
       "      <td>***.826.721-**</td>\n",
       "      <td>21223371907.00</td>\n",
       "      <td>ACEONE JOSE DE FREITAS</td>\n",
       "      <td>455,00</td>\n",
       "    </tr>\n",
       "    <tr>\n",
       "      <th>...</th>\n",
       "      <td>...</td>\n",
       "      <td>...</td>\n",
       "      <td>...</td>\n",
       "      <td>...</td>\n",
       "      <td>...</td>\n",
       "      <td>...</td>\n",
       "      <td>...</td>\n",
       "      <td>...</td>\n",
       "      <td>...</td>\n",
       "    </tr>\n",
       "    <tr>\n",
       "      <th>20831724</th>\n",
       "      <td>202401</td>\n",
       "      <td>202401</td>\n",
       "      <td>TO</td>\n",
       "      <td>9665</td>\n",
       "      <td>WANDERLANDIA</td>\n",
       "      <td>NaN</td>\n",
       "      <td>16333556891.00</td>\n",
       "      <td>YASMIM SOARES SILVA</td>\n",
       "      <td>475,00</td>\n",
       "    </tr>\n",
       "    <tr>\n",
       "      <th>20831725</th>\n",
       "      <td>202401</td>\n",
       "      <td>202401</td>\n",
       "      <td>TO</td>\n",
       "      <td>9665</td>\n",
       "      <td>WANDERLANDIA</td>\n",
       "      <td>***.540.251-**</td>\n",
       "      <td>20619746755.00</td>\n",
       "      <td>ZAIRA FERREIRA DA SILVA PEREIRA</td>\n",
       "      <td>490,00</td>\n",
       "    </tr>\n",
       "    <tr>\n",
       "      <th>20831726</th>\n",
       "      <td>202401</td>\n",
       "      <td>202401</td>\n",
       "      <td>TO</td>\n",
       "      <td>9665</td>\n",
       "      <td>WANDERLANDIA</td>\n",
       "      <td>***.606.461-**</td>\n",
       "      <td>16532062465.00</td>\n",
       "      <td>ZELIA DAMACENO MATOS</td>\n",
       "      <td>700,00</td>\n",
       "    </tr>\n",
       "    <tr>\n",
       "      <th>20831727</th>\n",
       "      <td>202401</td>\n",
       "      <td>202401</td>\n",
       "      <td>TO</td>\n",
       "      <td>9665</td>\n",
       "      <td>WANDERLANDIA</td>\n",
       "      <td>***.493.771-**</td>\n",
       "      <td>16535229689.00</td>\n",
       "      <td>ZILDETE DOS SANTOS PAZ</td>\n",
       "      <td>600,00</td>\n",
       "    </tr>\n",
       "    <tr>\n",
       "      <th>20831728</th>\n",
       "      <td>202401</td>\n",
       "      <td>202401</td>\n",
       "      <td>TO</td>\n",
       "      <td>9665</td>\n",
       "      <td>WANDERLANDIA</td>\n",
       "      <td>***.330.523-**</td>\n",
       "      <td>16063371479.00</td>\n",
       "      <td>ZULEIDE GOMES MACHADO</td>\n",
       "      <td>600,00</td>\n",
       "    </tr>\n",
       "  </tbody>\n",
       "</table>\n",
       "<p>1469 rows × 9 columns</p>\n",
       "</div>"
      ],
      "text/plain": [
       "          MÊS COMPETÊNCIA  MÊS REFERÊNCIA  UF  CÓDIGO MUNICÍPIO SIAFI NOME MUNICÍPIO  CPF FAVORECIDO  NIS FAVORECIDO                  NOME FAVORECIDO VALOR PARCELA\n",
       "72094              202401          202310  TO                    9665   WANDERLANDIA  ***.729.691-**  16181994360.00           GILDAMAR SINHA BENIGNO        810,00\n",
       "121566             202401          202311  TO                    9665   WANDERLANDIA  ***.729.691-**  16181994360.00           GILDAMAR SINHA BENIGNO        810,00\n",
       "175754             202401          202312  TO                    9665   WANDERLANDIA  ***.729.691-**  16181994360.00           GILDAMAR SINHA BENIGNO        810,00\n",
       "20830263           202401          202401  TO                    9665   WANDERLANDIA  ***.688.783-**  20918613684.00            ABDIAS SOARES SANTANA        600,00\n",
       "20830264           202401          202401  TO                    9665   WANDERLANDIA  ***.826.721-**  21223371907.00           ACEONE JOSE DE FREITAS        455,00\n",
       "...                   ...             ...  ..                     ...            ...             ...             ...                              ...           ...\n",
       "20831724           202401          202401  TO                    9665   WANDERLANDIA             NaN  16333556891.00              YASMIM SOARES SILVA        475,00\n",
       "20831725           202401          202401  TO                    9665   WANDERLANDIA  ***.540.251-**  20619746755.00  ZAIRA FERREIRA DA SILVA PEREIRA        490,00\n",
       "20831726           202401          202401  TO                    9665   WANDERLANDIA  ***.606.461-**  16532062465.00             ZELIA DAMACENO MATOS        700,00\n",
       "20831727           202401          202401  TO                    9665   WANDERLANDIA  ***.493.771-**  16535229689.00           ZILDETE DOS SANTOS PAZ        600,00\n",
       "20831728           202401          202401  TO                    9665   WANDERLANDIA  ***.330.523-**  16063371479.00            ZULEIDE GOMES MACHADO        600,00\n",
       "\n",
       "[1469 rows x 9 columns]"
      ]
     },
     "execution_count": 46,
     "metadata": {},
     "output_type": "execute_result"
    }
   ],
   "source": [
    "filteredDataFrameMunicipio = dataFrame[dataFrame[\"NOME MUNICÍPIO\"] == \"WANDERLANDIA\"]\n",
    "filteredDataFrameMunicipio"
   ]
  },
  {
   "cell_type": "code",
   "execution_count": 53,
   "metadata": {},
   "outputs": [
    {
     "data": {
      "text/plain": [
       "np.float64(972538.0)"
      ]
     },
     "execution_count": 53,
     "metadata": {},
     "output_type": "execute_result"
    }
   ],
   "source": [
    "# SUM AMOUNT OF MONEY\\\n",
    "#result\n",
    "# Filtrar os dados pelo municipio de Wanderlandia\n",
    "# Verificar no mes de 01/2024 quando o municipio recebeu?\n",
    "\n",
    "sum = filteredDataFrameMunicipio[\"VALOR PARCELA\"].str.replace(\",\",\".\").astype(float).sum()\n",
    "sum\n"
   ]
  },
  {
   "cell_type": "code",
   "execution_count": 55,
   "metadata": {},
   "outputs": [],
   "source": [
    "# Conte quantos beneficios foram recebidos por cada UF\n",
    "# Qual a UF que mais recebeu beneficios em 03/2024\n",
    "\n",
    "url = 'https://portaldatransparencia.gov.br/download-de-dados/novo-bolsa-familia/202403'\n",
    "\n",
    "dataFrame = DownloadExtractData(url)"
   ]
  },
  {
   "cell_type": "code",
   "execution_count": null,
   "metadata": {},
   "outputs": [
    {
     "data": {
      "text/plain": [
       "np.int64(20534090)"
      ]
     },
     "execution_count": 58,
     "metadata": {},
     "output_type": "execute_result"
    }
   ],
   "source": [
    "ufDataFrame = dataFrame[\"UF\"]\n",
    "ufDataFrame\n"
   ]
  },
  {
   "cell_type": "code",
   "execution_count": 64,
   "metadata": {},
   "outputs": [
    {
     "data": {
      "text/plain": [
       "UF\n",
       "SP    2493243\n",
       "BA    2445216\n",
       "RJ    1673124\n",
       "PE    1576690\n",
       "MG    1575003\n",
       "       ...   \n",
       "TO     156352\n",
       "AC     128859\n",
       "RO     121860\n",
       "AP     115126\n",
       "RR      72427\n",
       "Name: count, Length: 27, dtype: int64"
      ]
     },
     "execution_count": 64,
     "metadata": {},
     "output_type": "execute_result"
    }
   ],
   "source": [
    "ufFrequency = ufDataFrame.value_counts()\n",
    "ufFrequency\n",
    "\n",
    "# ufFrequency[\"SP\"]\n"
   ]
  },
  {
   "cell_type": "code",
   "execution_count": 67,
   "metadata": {},
   "outputs": [
    {
     "data": {
      "text/plain": [
       "'SP'"
      ]
     },
     "execution_count": 67,
     "metadata": {},
     "output_type": "execute_result"
    }
   ],
   "source": [
    "mostFrequencyUf = ufFrequency.idxmax()\n",
    "mostFrequencyUf"
   ]
  }
 ],
 "metadata": {
  "kernelspec": {
   "display_name": "Python 3",
   "language": "python",
   "name": "python3"
  },
  "language_info": {
   "codemirror_mode": {
    "name": "ipython",
    "version": 3
   },
   "file_extension": ".py",
   "mimetype": "text/x-python",
   "name": "python",
   "nbconvert_exporter": "python",
   "pygments_lexer": "ipython3",
   "version": "3.9.2"
  }
 },
 "nbformat": 4,
 "nbformat_minor": 2
}
